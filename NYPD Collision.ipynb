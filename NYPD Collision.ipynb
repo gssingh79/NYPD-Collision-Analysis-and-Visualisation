{
 "cells": [
  {
   "cell_type": "code",
   "execution_count": null,
   "metadata": {},
   "outputs": [],
   "source": [
    "# Import the required libraries \n",
    "\n",
    "import pandas as pd\n",
    "from sodapy import Socrata\n",
    "import numpy as np\n",
    "import matplotlib\n",
    "import cufflinks as cf\n",
    "import plotly\n",
    "import plotly.offline as py\n",
    "import plotly.graph_objs as go\n",
    "\n",
    "cf.go_offline() # required to use plotly offline (no account required).\n",
    "py.init_notebook_mode() # graphs charts inline (IPython).\n",
    "import warnings\n",
    "warnings.filterwarnings(\"ignore\")\n",
    "\n",
    "warnings.filterwarnings(\"ignore\")\n",
    "client = Socrata(\"data.medicare.gov\", None)\n",
    "# First 100 results, returned as JSON from API / converted to Python list of\n",
    "# dictionaries by sodapy.\n",
    "results = client.get(\"9wzi-peqs\", limit=100)\n",
    "\n",
    "# Convert to pandas DataFrame\n",
    "results_df = pd.DataFrame.from_records(results)\n",
    "\n",
    "results_df.head(10)\n",
    "\n",
    "results_df.columns\n",
    "\n",
    "performance = pd.concat([results_df.how_often_the_home_health_team_began_their_patients_care_in_a_timely_manner,\n",
    "                        results_df.how_often_the_home_health_team_checked_patients_for_depression])\n",
    "\n",
    "performance\n",
    "\n",
    "performance.value_counts().iplot(kind='bar')"
   ]
  },
  {
   "cell_type": "code",
   "execution_count": null,
   "metadata": {},
   "outputs": [],
   "source": [
    "# NYPD Collisions analysis\n",
    "url = 'https://data.cityofnewyork.us/resource/qiz3-axqb.json?$limit=1000000&\\\n",
    "$where=date%20between%20%272017-01-01T00:00:00%27%20and%20%272018-01-01T00:00:00%27'\n",
    "collisions = pd.read_json(url)"
   ]
  },
  {
   "cell_type": "code",
   "execution_count": null,
   "metadata": {},
   "outputs": [],
   "source": [
    "collisions.columns"
   ]
  },
  {
   "cell_type": "code",
   "execution_count": null,
   "metadata": {},
   "outputs": [],
   "source": [
    "contributing_factors = pd.concat(\n",
    "          [collisions.contributing_factor_vehicle_1,\n",
    "           collisions.contributing_factor_vehicle_2,\n",
    "           collisions.contributing_factor_vehicle_3,\n",
    "           collisions.contributing_factor_vehicle_4,\n",
    "           collisions.contributing_factor_vehicle_5])"
   ]
  },
  {
   "cell_type": "code",
   "execution_count": null,
   "metadata": {},
   "outputs": [],
   "source": [
    "contributing_factors.value_counts().iplot(kind='bar')"
   ]
  },
  {
   "cell_type": "code",
   "execution_count": null,
   "metadata": {
    "scrolled": true
   },
   "outputs": [],
   "source": [
    "temp = pd.DataFrame({'contributing_factors':contributing_factors.value_counts()})\n",
    "df = temp[temp.index != 'Unspecified']\n",
    "df = df.sort_values(by='contributing_factors', ascending=True)\n",
    "data  = go.Data([\n",
    "            go.Bar(\n",
    "              y = df.index,\n",
    "              x = df.contributing_factors,\n",
    "              orientation='h'\n",
    "        )])\n",
    "layout = go.Layout(\n",
    "        height = 1000,\n",
    "        margin=go.Margin(l=300),\n",
    "        title = \"Contributing Factors for Vehicle Collisions in 2017-18\"\n",
    ")\n",
    "fig  = go.Figure(data=data, layout=layout)\n",
    "py.iplot(fig)"
   ]
  },
  {
   "cell_type": "code",
   "execution_count": null,
   "metadata": {},
   "outputs": [],
   "source": [
    "# transform the date column into an actual date object so that plotly is able to graph it in a time series. \n",
    "\n",
    "collisions.date = pd.to_datetime(collisions.date)\n",
    "\n",
    "#df is sorted by date\n",
    "collisions.date.sort_values().index \n",
    "df_by_date = collisions.iloc[collisions.date.sort_values().index]"
   ]
  },
  {
   "cell_type": "code",
   "execution_count": null,
   "metadata": {},
   "outputs": [],
   "source": [
    "# .groupby method to aggregate incidents by date as well as sum deaths per day. \n",
    "# plotting them is as easy as calling the .plot method in our dataframe.\n",
    "\n",
    "collisions_by_date = df_by_date.groupby('date').date.count()\n",
    "collisions_by_date.iplot(kind='scatter', title='Collisions Per Day')\n",
    "\n",
    "deaths_by_date = df_by_date.groupby('date')['number_of_persons_killed'].sum()\n",
    "deaths_by_date.iplot(kind='bar', title='Deaths per Day')"
   ]
  },
  {
   "cell_type": "code",
   "execution_count": null,
   "metadata": {},
   "outputs": [],
   "source": [
    "colli_deaths = pd.DataFrame({'collisions':collisions_by_date, 'deaths':deaths_by_date })\n",
    "\n",
    "color1 = '#9467bd'\n",
    "color2 = '#F08B00'\n",
    "\n",
    "trace1 = go.Scatter(\n",
    "    x = colli_deaths.index,\n",
    "    y = colli_deaths['collisions'],\n",
    "    name='collisions',\n",
    "    line = dict(\n",
    "        color = color1\n",
    "    )\n",
    ")\n",
    "trace2 = go.Scatter(\n",
    "    x= colli_deaths.index,\n",
    "    y =colli_deaths['deaths'] ,\n",
    "    name='deaths',\n",
    "    yaxis='y2',\n",
    "    mode='markers'\n",
    "\n",
    ")\n",
    "data = [trace1, trace2]\n",
    "layout = go.Layout(\n",
    "    title= \"Collisions and Deaths per day\",\n",
    "    yaxis=dict(\n",
    "        title='collisions',\n",
    "        titlefont=dict(\n",
    "            color=color1\n",
    "        ),\n",
    "        tickfont=dict(\n",
    "            color=color1\n",
    "        )\n",
    "    ),\n",
    "    yaxis2=dict(\n",
    "        title='deaths',\n",
    "        overlaying='y',\n",
    "        side='right',\n",
    "        titlefont=dict(\n",
    "            color=color2\n",
    "        ),\n",
    "        tickfont=dict(\n",
    "            color=color2\n",
    "        )\n",
    "\n",
    "    )\n",
    "\n",
    ")\n",
    "fig = go.Figure(data=data, layout=layout)\n",
    "plot_url = py.iplot(fig)"
   ]
  },
  {
   "cell_type": "code",
   "execution_count": null,
   "metadata": {},
   "outputs": [],
   "source": []
  }
 ],
 "metadata": {
  "kernelspec": {
   "display_name": "Python 3",
   "language": "python",
   "name": "python3"
  },
  "language_info": {
   "codemirror_mode": {
    "name": "ipython",
    "version": 3
   },
   "file_extension": ".py",
   "mimetype": "text/x-python",
   "name": "python",
   "nbconvert_exporter": "python",
   "pygments_lexer": "ipython3",
   "version": "3.7.1"
  }
 },
 "nbformat": 4,
 "nbformat_minor": 2
}
